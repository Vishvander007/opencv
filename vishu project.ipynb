{
 "cells": [
  {
   "cell_type": "code",
   "execution_count": 2,
   "id": "71df40a3-637d-4fee-b022-fafcd166b036",
   "metadata": {},
   "outputs": [],
   "source": [
    "import cv2\n",
    "import numpy as np\n",
    "\n",
    "bodyclassifier = cv2.CascadeClassifier('4.xml')\n",
    "\n",
    "video = cv2.VideoCapture('5.avi')\n",
    "\n",
    "while video.isOpened():\n",
    "    ret,frame = video.read()\n",
    "    gray = cv2.cvtColor(frame, cv2.COLOR_BGR2GRAY)\n",
    "    bodies = bodyclassifier.detectMultiScale(gray,1.2,3)\n",
    "\n",
    "    for(x,w,y,h) in bodies:\n",
    "         cv2.rectangle(frame , (x,y), (x+w,y+h),(0,125,521,2),6)\n",
    "         cv2.imshow('Pedestrians',frame)\n",
    "\n",
    "    if cv2.waitKey(1)==27:\n",
    "            break\n",
    "video.release()\n",
    "cv2.destroyAllWindows()"
   ]
  },
  {
   "cell_type": "code",
   "execution_count": 17,
   "id": "3bacfe00-1f83-43d7-86d7-46a82a144758",
   "metadata": {},
   "outputs": [],
   "source": [
    "import numpy as np\n",
    "import cv2\n",
    "import time\n",
    "\n",
    "car_classifier = cv2.CascadeClassifier('cars.xml')\n",
    "\n",
    "video = cv2.VideoCapture('cars.mp4')\n",
    "\n",
    "while video.isOpened():\n",
    "         time.sleep(.05)\n",
    "         ret,frame = video.read()\n",
    "         gray = cv2.cvtColor(frame,cv2.COLOR_BGR2GRAY)\n",
    "         cars = car_classifier.detectMultiScale(gray,1.4,2)\n",
    "\n",
    "         for (x,y,w,h) in cars:\n",
    "             cv2.rectangle(frame, (x, y), (x+w, y+h), (0, 255, 255), 2)\n",
    "             cv2.imshow('cars',frame)\n",
    "           \n",
    "         if cv2.waitKey(1)==13:\n",
    "             break\n",
    "    \n",
    "video.release()\n",
    "cv2.destroyAllWindows()"
   ]
  },
  {
   "cell_type": "code",
   "execution_count": null,
   "id": "045e4aa8-ee50-4ec0-9fce-5b23300c74f1",
   "metadata": {},
   "outputs": [],
   "source": []
  }
 ],
 "metadata": {
  "kernelspec": {
   "display_name": "Python 3 (ipykernel)",
   "language": "python",
   "name": "python3"
  },
  "language_info": {
   "codemirror_mode": {
    "name": "ipython",
    "version": 3
   },
   "file_extension": ".py",
   "mimetype": "text/x-python",
   "name": "python",
   "nbconvert_exporter": "python",
   "pygments_lexer": "ipython3",
   "version": "3.12.7"
  }
 },
 "nbformat": 4,
 "nbformat_minor": 5
}
